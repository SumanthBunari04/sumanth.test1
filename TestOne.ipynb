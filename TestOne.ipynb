{
 "cells": [
  {
   "cell_type": "markdown",
   "id": "d10ec15d-a6b7-4423-a4f6-c3c12b2d0291",
   "metadata": {},
   "source": [
    "# 1. Define Python ?"
   ]
  },
  {
   "cell_type": "markdown",
   "id": "aa55c2d2-db1c-4ab1-892e-c8693da82d1f",
   "metadata": {},
   "source": [
    "Python is a high-level, general-purpose, and very popular programming language. Python programming language using version(Python 3) and it is being used in web development, and Machine Learning applications, along with all cutting-edge technology in Software Industry. Python language is being used by almost all tech-giant companies like – Google, Amazon, Facebook, Instagram, Dropbox, Uber… etc."
   ]
  },
  {
   "cell_type": "markdown",
   "id": "cc0d1a5e-9a2e-4059-94bb-c3917bae230b",
   "metadata": {},
   "source": [
    "### example"
   ]
  },
  {
   "cell_type": "code",
   "execution_count": 2,
   "id": "c8edadbe-7643-44eb-9921-489207e5cd0f",
   "metadata": {},
   "outputs": [
    {
     "name": "stdout",
     "output_type": "stream",
     "text": [
      "Hello World! I am Bunari Sai Sumanth\n"
     ]
    }
   ],
   "source": [
    "# Python Program to print Hello World \n",
    "print(\"Hello World! I am Bunari Sai Sumanth\"); "
   ]
  },
  {
   "cell_type": "markdown",
   "id": "bdcc9649-ffff-43e0-bfa8-65cafea523bc",
   "metadata": {},
   "source": [
    "# 2. Valid Variables and Invalid Variables ?"
   ]
  },
  {
   "cell_type": "markdown",
   "id": "72a4086a-3990-4e36-adc2-20232a87ca2b",
   "metadata": {},
   "source": [
    "1. Variable names must start with a letter or the underscore character.\n",
    "2. Variable names cannot start with a number.\n",
    "3. Variable names can only contain alpha-numeric characters and underscores (A-z, 0-9, and _ ).\n",
    "4. Variable names are case-sensitive (age, Age and AGE are three different variables).\n",
    "5. Variable names cannot be keywords.\n",
    "\n",
    "### examples of Valid valiables\n",
    "myvar, my_var, _my_var, myvar, myvar2.\n"
   ]
  },
  {
   "cell_type": "markdown",
   "id": "e5294f51-af73-4464-ad9c-c27b69f54ffe",
   "metadata": {},
   "source": [
    "### examples of Invalid variables.\n",
    "\n",
    "2myvar, my variable, my-var, myVar, class, @class."
   ]
  },
  {
   "cell_type": "markdown",
   "id": "7b0bb3f4-52dc-4834-a426-1764f8025137",
   "metadata": {},
   "source": [
    "# 3. Define List ?"
   ]
  },
  {
   "cell_type": "markdown",
   "id": "640df033-4176-4f7b-9126-d178586d6110",
   "metadata": {},
   "source": [
    "Lists are used to store multiple items in a single variable. List literals are written within square brackets [ ]. use the len() function and square brackets [ ] to access data, with the first element starts at index 0 from left to right is(+) and with the last element starts at index -1 from right to left(-)"
   ]
  },
  {
   "cell_type": "markdown",
   "id": "fbab1320-33b8-48f9-b264-12be24e8a16e",
   "metadata": {},
   "source": [
    "### creating 10 elements in list"
   ]
  },
  {
   "cell_type": "code",
   "execution_count": 36,
   "id": "fc1ae622-c6f7-45c3-a062-4c3d5bf87f7c",
   "metadata": {},
   "outputs": [
    {
     "name": "stdout",
     "output_type": "stream",
     "text": [
      "10\n"
     ]
    }
   ],
   "source": [
    "gods = [\"shiva\", \"vishnu\", \"ganesh\", \"hanuman\", \"narasimha\", \"ram\", \"krishna\", \"kalki\", \"lakshmidevi\", \"venkateshwaraswamy\"]\n",
    "print(len(gods));"
   ]
  },
  {
   "cell_type": "markdown",
   "id": "c83977aa-86c9-475b-b959-f5f108772f83",
   "metadata": {},
   "source": [
    "### acessing the list elements using positive index"
   ]
  },
  {
   "cell_type": "markdown",
   "id": "6033b3d4-4403-44bd-b09d-3f8bcea56b0f",
   "metadata": {},
   "source": [
    "print(colors[0]);    \n",
    "print(colors[2]);\n",
    "print(colors[4]);\n",
    "print(colors[7]);"
   ]
  },
  {
   "cell_type": "markdown",
   "id": "00cf1ee0-da39-4315-8b94-4cacc8780ec8",
   "metadata": {},
   "source": [
    "### acessing the list elements using negative index"
   ]
  },
  {
   "cell_type": "code",
   "execution_count": 37,
   "id": "ace7f5a3-5778-4a9d-8b3e-633c7cd8726f",
   "metadata": {},
   "outputs": [
    {
     "name": "stdout",
     "output_type": "stream",
     "text": [
      "narasimha\n",
      "kalki\n",
      "krishna\n",
      "lakshmidevi\n"
     ]
    }
   ],
   "source": [
    "print(gods[-6]);\n",
    "print(gods[-3]);\n",
    "print(gods[-4]);\n",
    "print(gods[-2]);"
   ]
  },
  {
   "cell_type": "markdown",
   "id": "be80da02-018b-4bb1-89d7-04df79bcafad",
   "metadata": {},
   "source": [
    "### methods in list data type"
   ]
  },
  {
   "cell_type": "markdown",
   "id": "3b6fd77b-ae38-4264-9b65-534f36ca2dba",
   "metadata": {},
   "source": [
    "#### 1. Append(): adding the element to the end of the list."
   ]
  },
  {
   "cell_type": "code",
   "execution_count": 40,
   "id": "4fce4a25-83a3-46a9-8e61-9c658f5ed664",
   "metadata": {},
   "outputs": [
    {
     "name": "stdout",
     "output_type": "stream",
     "text": [
      "[1231, 232, 323, 4534, 5635, 4542, 4343]\n"
     ]
    }
   ],
   "source": [
    "list1 = [1231,232,323,4534,5635,4542]\n",
    "list1.append(4343)\n",
    "print(list1);"
   ]
  },
  {
   "cell_type": "markdown",
   "id": "acb43ccc-a519-410f-8774-6f931cfa06cf",
   "metadata": {},
   "source": [
    "#### 2. Extend(): adding each element at the end."
   ]
  },
  {
   "cell_type": "code",
   "execution_count": 41,
   "id": "69ffde4c-d100-4f09-914b-5da6fb5a62a4",
   "metadata": {},
   "outputs": [
    {
     "name": "stdout",
     "output_type": "stream",
     "text": [
      "[1098, 'Hanuman', 7923]\n"
     ]
    }
   ],
   "source": [
    "list2 = [1098, \"Hanuman\"]\n",
    "sai = [7923]\n",
    "list2.extend(sai)\n",
    "print(list2);"
   ]
  },
  {
   "cell_type": "markdown",
   "id": "8556bd59-4339-4a9b-aa00-8cdcc72a2b34",
   "metadata": {},
   "source": [
    "# 4. Create a String ?"
   ]
  },
  {
   "cell_type": "code",
   "execution_count": 45,
   "id": "cc8518a2-2fb1-43e8-8939-e75682ac6c8f",
   "metadata": {},
   "outputs": [
    {
     "name": "stdout",
     "output_type": "stream",
     "text": [
      "Welcome to my world\n",
      "I'm Sumanth\n",
      "I'm Sumanth and I live in India\n"
     ]
    }
   ],
   "source": [
    "#example1 Creating a String with single Quotes\n",
    "String1 = 'Welcome to my world'\n",
    "print(String1); \n",
    "\n",
    "#example2 Creating a String with double Quotes\n",
    "String2 = \"I'm Sumanth\"\n",
    "print(String2);\n",
    "  \n",
    "#example3\n",
    "# Creating a String with triple Quotes\n",
    "String3 = '''I'm Sumanth and I live in India'''\n",
    "print(String3);"
   ]
  },
  {
   "cell_type": "markdown",
   "id": "bbc5b707-fe38-4c83-a98f-8d85a3b837c9",
   "metadata": {},
   "source": [
    "### accessing the string using positive index"
   ]
  },
  {
   "cell_type": "code",
   "execution_count": 43,
   "id": "f8099ac0-ba4d-4845-9c9e-5f4483f11406",
   "metadata": {},
   "outputs": [
    {
     "name": "stdout",
     "output_type": "stream",
     "text": [
      "W\n"
     ]
    }
   ],
   "source": [
    "print(String1[0]); "
   ]
  },
  {
   "cell_type": "markdown",
   "id": "41b99dfe-58f0-47e5-8e06-a9f9ffeceb90",
   "metadata": {},
   "source": [
    "### accessing the string using negative index"
   ]
  },
  {
   "cell_type": "code",
   "execution_count": 46,
   "id": "27bf900a-09e5-4d7d-9a8d-01701a5fead1",
   "metadata": {},
   "outputs": [
    {
     "name": "stdout",
     "output_type": "stream",
     "text": [
      "m\n"
     ]
    }
   ],
   "source": [
    "print(String2[-5]); "
   ]
  },
  {
   "cell_type": "markdown",
   "id": "88b46941-3ffb-4133-8067-42ef43219a7a",
   "metadata": {},
   "source": [
    "### methods in String data type"
   ]
  },
  {
   "cell_type": "markdown",
   "id": "8071f912-f527-4bc0-872b-19d511ca6de4",
   "metadata": {},
   "source": [
    "#### 1. count(): Returns the number of occurrences of a substring in the string."
   ]
  },
  {
   "cell_type": "code",
   "execution_count": 49,
   "id": "68373e14-8359-4125-83c3-c70f70813aa3",
   "metadata": {},
   "outputs": [
    {
     "name": "stdout",
     "output_type": "stream",
     "text": [
      "3\n"
     ]
    }
   ],
   "source": [
    "my_string = \"sai sumanth bunari\"\n",
    "char_count = my_string.count('a')\n",
    "print(char_count);"
   ]
  },
  {
   "cell_type": "markdown",
   "id": "9e501a42-a257-426b-941c-05c4aa2d6912",
   "metadata": {},
   "source": [
    "#### 2. capitalize(): Converts the first character of the string to a capital (uppercase) letter."
   ]
  },
  {
   "cell_type": "code",
   "execution_count": 50,
   "id": "3db2e66d-274d-4fcf-8909-2dbcaa1677e3",
   "metadata": {},
   "outputs": [
    {
     "name": "stdout",
     "output_type": "stream",
     "text": [
      "Hanuman\n"
     ]
    }
   ],
   "source": [
    "name = \"hanuman\"\n",
    "print(name.capitalize());"
   ]
  },
  {
   "cell_type": "markdown",
   "id": "ba594839-bea2-4475-bb93-e92638fc6c9c",
   "metadata": {},
   "source": [
    "# 5. create tuple ?"
   ]
  },
  {
   "cell_type": "code",
   "execution_count": 58,
   "id": "7a51406a-2adc-4a50-9e9f-b7e89c12325c",
   "metadata": {},
   "outputs": [
    {
     "name": "stdout",
     "output_type": "stream",
     "text": [
      "()\n",
      "('Apple', 'For')\n",
      "(1, 2, 4, 5, 6)\n",
      "(5, 'Welcome', 7, 'class')\n",
      "((0, 1, 2, 3), ('python', 'geek'))\n",
      "('sumanth', 'sumanth', 'sumanth')\n",
      "('s', 'a', 'i')\n"
     ]
    }
   ],
   "source": [
    "# Creating an empty Tuple\n",
    "Tuple1 = ()\n",
    "print(Tuple1);\n",
    "\n",
    "# Creating a Tuple with the use of a string\n",
    "Tuple2 = ('Apple', 'For')\n",
    "print(Tuple2);\n",
    "\n",
    "# Creating a Tuple with the use of a list\n",
    "list3 = [1, 2, 4, 5, 6]\n",
    "print(tuple(list3));\n",
    "\n",
    "# Creating a Tuple with Mixed Datatype\n",
    "Tuple4 = (5, 'Welcome', 7, 'class')\n",
    "print(Tuple4);\n",
    "\n",
    "# Creating a Tuple with nested tuples\n",
    "a = (0, 1, 2, 3)\n",
    "b = ('python', 'tuple')\n",
    "c = (a, b)\n",
    "print(Tuple3);\n",
    "\n",
    "# Creating a Tuple with repetition\n",
    "A = ('sumanth',) * 3\n",
    "print(A);\n",
    "\n",
    "# Creating a Tuple with the use of built-in function\n",
    "B = tuple('sai')\n",
    "print(B);"
   ]
  },
  {
   "cell_type": "markdown",
   "id": "865ea4b4-42f7-47de-8194-27f2a3044db7",
   "metadata": {},
   "source": [
    "### accessing the tuple using positive index"
   ]
  },
  {
   "cell_type": "code",
   "execution_count": 60,
   "id": "b959a58b-4901-4d54-9506-8a7564427ccc",
   "metadata": {},
   "outputs": [
    {
     "name": "stdout",
     "output_type": "stream",
     "text": [
      "7\n"
     ]
    }
   ],
   "source": [
    "print(Tuple4[2]);"
   ]
  },
  {
   "cell_type": "markdown",
   "id": "61f71c27-99ed-4473-b8ac-bf3f26ea9a95",
   "metadata": {},
   "source": [
    "### accessing the tuple using negative index"
   ]
  },
  {
   "cell_type": "code",
   "execution_count": 62,
   "id": "e95d53a9-47cb-46a3-9db3-f6daa46bfe0f",
   "metadata": {},
   "outputs": [
    {
     "name": "stdout",
     "output_type": "stream",
     "text": [
      "class\n"
     ]
    }
   ],
   "source": [
    "print(Tuple4[-1]);"
   ]
  },
  {
   "cell_type": "markdown",
   "id": "8ab14dea-76da-4039-8521-6761e0f18bfb",
   "metadata": {},
   "source": [
    "### methods in tuple data type"
   ]
  },
  {
   "cell_type": "markdown",
   "id": "770a665d-4622-46c8-87cc-39f1a52b979d",
   "metadata": {},
   "source": [
    "#### 1. count(): returns the number of times the given element appears in the tuple."
   ]
  },
  {
   "cell_type": "code",
   "execution_count": 67,
   "id": "8390e3c6-6593-4266-ad6f-79bf95c8fa0c",
   "metadata": {},
   "outputs": [
    {
     "name": "stdout",
     "output_type": "stream",
     "text": [
      "3\n"
     ]
    }
   ],
   "source": [
    "x = (0, 1, 2, 3, 2, 3, 1, 3, 2) \n",
    "res1 = x.count(3) \n",
    "print(res1); "
   ]
  },
  {
   "cell_type": "markdown",
   "id": "8f9ddfb2-335b-41a4-a68b-ee6ea2940fc2",
   "metadata": {},
   "source": [
    "#### 2. index(): returns the first occurrence of the given element from the tuple."
   ]
  },
  {
   "cell_type": "code",
   "execution_count": 69,
   "id": "08f9235d-cc7f-40b3-b5e1-013db032c92d",
   "metadata": {},
   "outputs": [
    {
     "name": "stdout",
     "output_type": "stream",
     "text": [
      "X.index(3): 3\n"
     ]
    }
   ],
   "source": [
    "X = (0, 1, 2, 3, 2, 3, 1, 3, 2)\n",
    "res2 = X.index(3) \n",
    "print('X.index(3):', res2);"
   ]
  },
  {
   "cell_type": "markdown",
   "id": "d5352d6d-3fbb-47a9-b982-abbca26dcd2f",
   "metadata": {},
   "source": [
    "# 6. crearte dictionary ?"
   ]
  },
  {
   "cell_type": "code",
   "execution_count": 84,
   "id": "49bc4d4b-6357-4b30-8e4b-1bc19ece3bd8",
   "metadata": {},
   "outputs": [
    {
     "name": "stdout",
     "output_type": "stream",
     "text": [
      "{'Name': 'a', 1: [1, 2, 3, 4], 'a': 45}\n"
     ]
    }
   ],
   "source": [
    "Dict = {'Name': 'a', 1: [1, 2, 3, 4], \"a\": 45}\n",
    "print(Dict);"
   ]
  },
  {
   "cell_type": "markdown",
   "id": "75b85615-bcc2-42ca-9555-edcfaa529aa6",
   "metadata": {},
   "source": [
    "### accessing the dictionary"
   ]
  },
  {
   "cell_type": "code",
   "execution_count": 76,
   "id": "f267c9c3-8cda-4a3d-af7b-089c1e2149af",
   "metadata": {},
   "outputs": [
    {
     "name": "stdout",
     "output_type": "stream",
     "text": [
      "Sumanth\n",
      "One\n"
     ]
    }
   ],
   "source": [
    "Dict = {1: 'One', 'name': 'Sumanth', 3: 'number'}\n",
    "#Accessing a element using key value\n",
    "print(Dict['name']);\n",
    "\n",
    "#Accessing a element using key value\n",
    "print(Dict[1]);"
   ]
  },
  {
   "cell_type": "markdown",
   "id": "1e6c3ec0-eee6-4ba7-aa88-733f589da9f7",
   "metadata": {},
   "source": [
    "### methods in dictionary date type"
   ]
  },
  {
   "cell_type": "markdown",
   "id": "9723858b-1963-49db-a467-3773f09196ff",
   "metadata": {},
   "source": [
    "#### 1. clear(): removes all items from the dictionary."
   ]
  },
  {
   "cell_type": "code",
   "execution_count": 79,
   "id": "14f0e6c1-8040-4d8b-8d69-57ecaf8b42aa",
   "metadata": {},
   "outputs": [
    {
     "name": "stdout",
     "output_type": "stream",
     "text": [
      "text = {}\n"
     ]
    }
   ],
   "source": [
    "text = {1: \"One\", 2: \"two\"} \n",
    "text.clear()\n",
    "print('text =', text);"
   ]
  },
  {
   "cell_type": "markdown",
   "id": "f0cc8166-3a67-4872-8e26-6c9132ddc84f",
   "metadata": {},
   "source": [
    "#### 2. get(): return the value for the given key if present in the dictionary. "
   ]
  },
  {
   "cell_type": "code",
   "execution_count": 83,
   "id": "f687b381-9581-4108-aea5-a287f27ae6a4",
   "metadata": {},
   "outputs": [
    {
     "name": "stdout",
     "output_type": "stream",
     "text": [
      "good\n",
      "Not found\n"
     ]
    }
   ],
   "source": [
    "#example1\n",
    "d1 = {'coding': 'good', 'thinking': 'better'}\n",
    "print(d1.get('coding'));\n",
    "\n",
    "#example2\n",
    "d2 = {1: '001', 2: '010', 3: '011'}\n",
    "print(d.get(4, \"Not found\"));"
   ]
  },
  {
   "cell_type": "code",
   "execution_count": null,
   "id": "56ee3cb9-30e7-4e18-9168-98342fc6c18c",
   "metadata": {},
   "outputs": [],
   "source": []
  }
 ],
 "metadata": {
  "kernelspec": {
   "display_name": "Python 3 (ipykernel)",
   "language": "python",
   "name": "python3"
  },
  "language_info": {
   "codemirror_mode": {
    "name": "ipython",
    "version": 3
   },
   "file_extension": ".py",
   "mimetype": "text/x-python",
   "name": "python",
   "nbconvert_exporter": "python",
   "pygments_lexer": "ipython3",
   "version": "3.11.7"
  }
 },
 "nbformat": 4,
 "nbformat_minor": 5
}
